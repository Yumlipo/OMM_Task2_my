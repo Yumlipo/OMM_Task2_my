{
 "cells": [
  {
   "cell_type": "markdown",
   "id": "b14a47ef",
   "metadata": {},
   "source": [
    "| N=M=T | $u_a-w$ | \n",
    "|----|---|\n",
    "|   10  |  0.07458  |\n",
    "|   20  |  0.01700  |\n",
    "|   50  |  0.00256  |\n",
    "|  100  |  0.0      |"
   ]
  }
 ],
 "metadata": {
  "kernelspec": {
   "display_name": "Python3-env",
   "language": "python",
   "name": "python3-env"
  },
  "language_info": {
   "codemirror_mode": {
    "name": "ipython",
    "version": 3
   },
   "file_extension": ".py",
   "mimetype": "text/x-python",
   "name": "python",
   "nbconvert_exporter": "python",
   "pygments_lexer": "ipython3",
   "version": "3.10.9"
  }
 },
 "nbformat": 4,
 "nbformat_minor": 5
}
